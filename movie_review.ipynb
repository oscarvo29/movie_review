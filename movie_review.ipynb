{
 "cells": [
  {
   "cell_type": "code",
   "execution_count": 77,
   "metadata": {},
   "outputs": [
    {
     "name": "stderr",
     "output_type": "stream",
     "text": [
      "[nltk_data] Downloading package punkt to\n",
      "[nltk_data]     /Users/oscarotterstad/nltk_data...\n",
      "[nltk_data]   Package punkt is already up-to-date!\n",
      "[nltk_data] Downloading package punkt_tab to\n",
      "[nltk_data]     /Users/oscarotterstad/nltk_data...\n",
      "[nltk_data]   Package punkt_tab is already up-to-date!\n",
      "[nltk_data] Downloading package stopwords to\n",
      "[nltk_data]     /Users/oscarotterstad/nltk_data...\n",
      "[nltk_data]   Package stopwords is already up-to-date!\n",
      "[nltk_data] Downloading package wordnet to\n",
      "[nltk_data]     /Users/oscarotterstad/nltk_data...\n",
      "[nltk_data]   Package wordnet is already up-to-date!\n"
     ]
    },
    {
     "data": {
      "text/plain": [
       "['movie_review_model.joblib']"
      ]
     },
     "execution_count": 77,
     "metadata": {},
     "output_type": "execute_result"
    }
   ],
   "source": [
    "import os\n",
    "import json\n",
    "import pandas as pd\n",
    "import nltk\n",
    "import numpy as np\n",
    "from nltk.tokenize import word_tokenize\n",
    "from nltk.corpus import stopwords\n",
    "from nltk.stem import PorterStemmer, WordNetLemmatizer\n",
    "from sklearn.feature_extraction.text import CountVectorizer, TfidfVectorizer\n",
    "from sklearn.model_selection import train_test_split, GridSearchCV\n",
    "from sklearn.naive_bayes import MultinomialNB\n",
    "from sklearn.svm import LinearSVC\n",
    "from sklearn.linear_model import LogisticRegression\n",
    "from sklearn.pipeline import Pipeline\n",
    "from sklearn.utils import resample\n",
    "import re\n",
    "from sklearn.metrics import accuracy_score\n",
    "import joblib\n",
    "import seaborn as sns\n",
    "import matplotlib.pyplot as plt\n",
    "\n",
    "\n",
    "# Download the necessary NLTK data files\n",
    "nltk.download(\"punkt\")\n",
    "nltk.download(\"punkt_tab\")\n",
    "nltk.download(\"stopwords\")\n",
    "nltk.download(\"wordnet\")\n",
    "\n",
    "def process_data(data: pd.DataFrame) -> pd.DataFrame: \n",
    "    data[\"review\"] = data[\"review\"].str.lower()\n",
    "    data[\"review\"] = data[\"review\"].apply(lambda x: re.sub(r\"[^a-zA-Z0-9\\s$!,?']\", \"\", x))\n",
    "    data[\"review\"] = data[\"review\"].apply(lambda x: re.sub(r\"\\b(not|no|never|none|nothing|nobody|nowhere|hardly|scarcely|barely) ([a-z]+)\", r\"\\1_\\2\", x))\n",
    "    data[\"review\"] = data[\"review\"].apply(word_tokenize)\n",
    "\n",
    "    # Define a set of English stop words and remove them from the tokens\n",
    "    stop_words = set(stopwords.words(\"english\"))\n",
    "    data[\"review\"] = data[\"review\"].apply(lambda x: [word for word in x if word not in stop_words])\n",
    "\n",
    "    lemmatizer = WordNetLemmatizer()\n",
    "    data[\"review\"] = data[\"review\"].apply(lambda x: [lemmatizer.lemmatize(word) for word in x])\n",
    "    data[\"review\"] = data[\"review\"].apply(lambda x: \" \".join(x))\n",
    "    data[\"sentiment\"] = data[\"sentiment\"].apply(lambda x: 0 if x == \"positive\" else 1)\n",
    "    # Remove duplicates if any\n",
    "    data = data.drop_duplicates(\"review\")\n",
    "\n",
    "    return data \n",
    "\n",
    "df = process_data(pd.read_csv(\"IMDB Dataset.csv\"))\n",
    "\n",
    "\n",
    "# Initialize TF-IDF Vectorizer\n",
    "vectorizer = TfidfVectorizer()\n",
    "# svc = LinearSVC(C = 1, loss=\"squared_hinge\")\n",
    "svc = LinearSVC(C=1, loss='hinge')\n",
    "# logreg = LogisticRegression()\n",
    "\n",
    "\n",
    "# Transform the review data to feature vectors\n",
    "X = vectorizer.fit_transform(df['review'])\n",
    "Y = df[\"sentiment\"]\n",
    "\n",
    "X_train, X_test, Y_train, Y_test = train_test_split(X, Y, test_size=0.3, random_state=42)\n",
    "\n",
    "svc.fit(X_train, Y_train)\n",
    "# # C_values = [0.001, 0.01, 0.1, 1, 10, 100]\n",
    "\n",
    "# # # Fix the param_grid (use 'classifier__C' instead of just 'C')\n",
    "# # param_grid = {\n",
    "# #     \"C\": C_values  # Prefix with 'classifier__'\n",
    "# # }\n",
    "# param_grid = {\n",
    "#     'C': [0.1, 1, 10, 100],\n",
    "#     'loss': ['hinge', 'squared_hinge']\n",
    "# }\n",
    "\n",
    "# grid = GridSearchCV(svc, param_grid, cv=5, scoring='accuracy', verbose=3, n_jobs=-1)\n",
    "# grid = GridSearchCV(svc, param_grid, refit=True, verbose=3)\n",
    "# grid.fit(X, y)\n",
    "\n",
    "\n",
    "\n",
    "pipeline = Pipeline([\n",
    "    (\"vectorizer\", vectorizer),\n",
    "    (\"classifier\", svc)\n",
    "])\n",
    "\n",
    "# print(\"Best parameters:\", grid.best_params_)\n",
    "# print(\"Best Accuracy:\", grid.best_score_)\n",
    "\n",
    "\n",
    "model_filename = 'movie_review_model.joblib'\n",
    "joblib.dump(pipeline, model_filename)\n",
    "\n"
   ]
  },
  {
   "cell_type": "code",
   "execution_count": 79,
   "metadata": {},
   "outputs": [
    {
     "name": "stdout",
     "output_type": "stream",
     "text": [
      "Model saved to movie_review_model.joblib\n",
      "Test Accuracy: 0.899623504101116\n"
     ]
    }
   ],
   "source": [
    "from sklearn.metrics import accuracy_score\n",
    "from sklearn.feature_extraction.text import TfidfVectorizer\n",
    "model = joblib.load('movie_review_model.joblib')\n",
    "\n",
    "print(f\"Model saved to {model_filename}\")\n",
    "\n",
    "\n",
    "# Predict with the trained classifier\n",
    "predictions = model.named_steps[\"classifier\"].predict(X_test)\n",
    "\n",
    "accuracy = accuracy_score(predictions, Y_test)\n",
    "print(\"Test Accuracy:\", accuracy)\n"
   ]
  }
 ],
 "metadata": {
  "kernelspec": {
   "display_name": "movie",
   "language": "python",
   "name": "python3"
  },
  "language_info": {
   "codemirror_mode": {
    "name": "ipython",
    "version": 3
   },
   "file_extension": ".py",
   "mimetype": "text/x-python",
   "name": "python",
   "nbconvert_exporter": "python",
   "pygments_lexer": "ipython3",
   "version": "3.13.2"
  }
 },
 "nbformat": 4,
 "nbformat_minor": 2
}
