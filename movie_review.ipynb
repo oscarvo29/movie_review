{
 "cells": [
  {
   "cell_type": "code",
   "execution_count": 49,
   "metadata": {},
   "outputs": [
    {
     "name": "stderr",
     "output_type": "stream",
     "text": [
      "[nltk_data] Downloading package punkt to\n",
      "[nltk_data]     /Users/oscarotterstad/nltk_data...\n",
      "[nltk_data]   Package punkt is already up-to-date!\n",
      "[nltk_data] Downloading package punkt_tab to\n",
      "[nltk_data]     /Users/oscarotterstad/nltk_data...\n",
      "[nltk_data]   Package punkt_tab is already up-to-date!\n",
      "[nltk_data] Downloading package stopwords to\n",
      "[nltk_data]     /Users/oscarotterstad/nltk_data...\n",
      "[nltk_data]   Package stopwords is already up-to-date!\n"
     ]
    },
    {
     "data": {
      "text/plain": [
       "['movie_review_model.joblib']"
      ]
     },
     "execution_count": 49,
     "metadata": {},
     "output_type": "execute_result"
    }
   ],
   "source": [
    "import os\n",
    "import json\n",
    "import pandas as pd\n",
    "import nltk\n",
    "import numpy as np\n",
    "from nltk.tokenize import word_tokenize\n",
    "from nltk.corpus import stopwords\n",
    "from nltk.stem import PorterStemmer\n",
    "from sklearn.feature_extraction.text import CountVectorizer, TfidfVectorizer\n",
    "from sklearn.model_selection import train_test_split, GridSearchCV\n",
    "from sklearn.naive_bayes import MultinomialNB\n",
    "from sklearn.svm import LinearSVC\n",
    "from sklearn.linear_model import LogisticRegression\n",
    "from sklearn.pipeline import Pipeline\n",
    "from sklearn.utils import resample\n",
    "import re\n",
    "from sklearn.metrics import accuracy_score\n",
    "import joblib\n",
    "\n",
    "\n",
    "# df = pd.read_json(\"skills_assessment_data/train.json\")\n",
    "\n",
    "# Download the necessary NLTK data files\n",
    "nltk.download(\"punkt\")\n",
    "nltk.download(\"punkt_tab\")\n",
    "nltk.download(\"stopwords\")\n",
    "\n",
    "def process_data(data: pd.DataFrame) -> pd.DataFrame: \n",
    "    # Remove duplicates if any\n",
    "    data = data.drop_duplicates()\n",
    "\n",
    "    data[\"text\"] = data[\"text\"].str.lower()\n",
    "    data[\"text\"] = data[\"text\"].apply(lambda x: re.sub(r\"[^a-z\\s$!]\", \"\", x))\n",
    "    data[\"text\"] = data[\"text\"].apply(word_tokenize)\n",
    "\n",
    "    # Define a set of English stop words and remove them from the tokens\n",
    "    stop_words = set(stopwords.words(\"english\"))\n",
    "    data[\"text\"] = data[\"text\"].apply(lambda x: [word for word in x if word not in stop_words])\n",
    "\n",
    "    stemmer = PorterStemmer()\n",
    "    data[\"text\"] = data[\"text\"].apply(lambda x: [stemmer.stem(word) for word in x])\n",
    "    data[\"text\"] = data[\"text\"].apply(lambda x: \" \".join(x))\n",
    "    data[\"label\"] = data[\"label\"].apply(lambda x: 0 if x == 1 else 1)\n",
    "    data.drop_duplicates()\n",
    "    return data \n",
    "\n",
    "df = process_data(pd.read_json(\"skills_assessment_data/train.json\"))\n",
    "\n",
    "# # Initialize CountVectorizer with bigrams, min_df, and max_df to focus on relevant terms\n",
    "# vectorizer = CountVectorizer(min_df=1, max_df=0.9, ngram_range=(1, 2))\n",
    "# # Fit and transform the message column\n",
    "# X = vectorizer.fit_transform(df[\"text\"])\n",
    "\n",
    "# Initialize TF-IDF Vectorizer\n",
    "vectorizer = TfidfVectorizer(stop_words='english', max_df=0.7)\n",
    "logreg = LogisticRegression()\n",
    "\n",
    "# Transform the text data to feature vectors\n",
    "X = vectorizer.fit_transform(df['text'])\n",
    "\n",
    "y = df[\"label\"]\n",
    "logreg.fit(X, y)\n",
    "\n",
    "pipeline = Pipeline([\n",
    "    (\"vectorizer\", vectorizer),\n",
    "    (\"classifier\", logreg)\n",
    "])\n",
    "\n",
    "\n",
    "\n",
    "model_filename = 'movie_review_model.joblib'\n",
    "joblib.dump(pipeline, model_filename)\n",
    "\n"
   ]
  },
  {
   "cell_type": "code",
   "execution_count": 50,
   "metadata": {},
   "outputs": [
    {
     "name": "stdout",
     "output_type": "stream",
     "text": [
      "Model saved to movie_review_model.joblib\n",
      "Test Accuracy: 0.8743195838877464\n"
     ]
    }
   ],
   "source": [
    "from sklearn.metrics import accuracy_score\n",
    "from sklearn.feature_extraction.text import TfidfVectorizer\n",
    "model = joblib.load('movie_review_model.joblib')\n",
    "\n",
    "print(f\"Model saved to {model_filename}\")\n",
    "\n",
    "df_test = process_data(pd.read_json(\"skills_assessment_data/test.json\"))\n",
    "X_test = model.named_steps[\"vectorizer\"].transform(df_test[\"text\"])\n",
    "y_test = df_test[\"label\"]\n",
    "# Predict with the trained classifier\n",
    "predictions = model.named_steps[\"classifier\"].predict(X_test)\n",
    "\n",
    "accuracy = accuracy_score(y_test, predictions)\n",
    "print(\"Test Accuracy:\", accuracy)\n"
   ]
  }
 ],
 "metadata": {
  "kernelspec": {
   "display_name": "movie",
   "language": "python",
   "name": "python3"
  },
  "language_info": {
   "codemirror_mode": {
    "name": "ipython",
    "version": 3
   },
   "file_extension": ".py",
   "mimetype": "text/x-python",
   "name": "python",
   "nbconvert_exporter": "python",
   "pygments_lexer": "ipython3",
   "version": "3.13.2"
  }
 },
 "nbformat": 4,
 "nbformat_minor": 2
}
